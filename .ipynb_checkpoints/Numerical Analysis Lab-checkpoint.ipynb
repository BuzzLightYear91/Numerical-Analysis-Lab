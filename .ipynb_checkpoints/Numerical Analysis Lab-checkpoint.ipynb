{
 "cells": [
  {
   "cell_type": "markdown",
   "metadata": {},
   "source": [
    "# Numerical Analysis Lab"
   ]
  },
  {
   "cell_type": "markdown",
   "metadata": {},
   "source": [
    "## Task 1"
   ]
  },
  {
   "cell_type": "markdown",
   "metadata": {},
   "source": [
    "###### B) Calculate the total mass of the ride "
   ]
  },
  {
   "cell_type": "code",
   "execution_count": 3,
   "metadata": {
    "collapsed": true
   },
   "outputs": [],
   "source": [
    "import math\n",
    "l=10 ##handle specifications\n",
    "R=0.5\n",
    "r=0.5-0.01905"
   ]
  },
  {
   "cell_type": "code",
   "execution_count": 8,
   "metadata": {},
   "outputs": [
    {
     "name": "stdout",
     "output_type": "stream",
     "text": [
      "0.5870724822291618\n",
      "4725.933481944752\n"
     ]
    }
   ],
   "source": [
    "GV = l*((math.pi*R**2)-(math.pi*r**2))\n",
    "print (GV)##volume of handle in M**3\n",
    "GM = GV*8050\n",
    "print (GM)##Mass of handle in KG"
   ]
  },
  {
   "cell_type": "code",
   "execution_count": 10,
   "metadata": {
    "collapsed": true
   },
   "outputs": [],
   "source": [
    "L = 4 ##head specifications\n",
    "W = 2\n",
    "H = 2\n"
   ]
  },
  {
   "cell_type": "code",
   "execution_count": 14,
   "metadata": {},
   "outputs": [
    {
     "name": "stdout",
     "output_type": "stream",
     "text": [
      "0.5028551070640006\n",
      "1423.0799529911217\n"
     ]
    }
   ],
   "source": [
    "HV = (L*W*H)-((L-0.0254)*(W-0.0254)*(H-0.0254))\n",
    "print (HV)##Head Volume in M**3\n",
    "HM = HV*2830\n",
    "print (HM)##Head Mass in KG"
   ]
  },
  {
   "cell_type": "code",
   "execution_count": 16,
   "metadata": {},
   "outputs": [
    {
     "name": "stdout",
     "output_type": "stream",
     "text": [
      "6149.013434935874\n"
     ]
    }
   ],
   "source": [
    "TM = GM+HM\n",
    "print (TM) ##Total Mass of the ride in KG"
   ]
  },
  {
   "cell_type": "markdown",
   "metadata": {},
   "source": [
    "###### C) Calculate the rotational inertia of the ride for the rotation about the pivot."
   ]
  },
  {
   "cell_type": "code",
   "execution_count": 18,
   "metadata": {},
   "outputs": [
    {
     "name": "stdout",
     "output_type": "stream",
     "text": [
      "157531.11606482507\n"
     ]
    }
   ],
   "source": [
    "Ig = (1/3)*GM*l**2 ##Moment of Inertia for Grip\n",
    "print (Ig)"
   ]
  },
  {
   "cell_type": "code",
   "execution_count": 20,
   "metadata": {},
   "outputs": [
    {
     "name": "stdout",
     "output_type": "stream",
     "text": [
      "142307.99529911217\n"
     ]
    }
   ],
   "source": [
    "Ih = HM*l**2\n",
    "print (Ih)"
   ]
  },
  {
   "cell_type": "markdown",
   "metadata": {},
   "source": [
    "###### D) Calculate the location of the center of mass of the ride relative to the pivot."
   ]
  },
  {
   "cell_type": "code",
   "execution_count": null,
   "metadata": {
    "collapsed": true
   },
   "outputs": [],
   "source": []
  },
  {
   "cell_type": "markdown",
   "metadata": {},
   "source": [
    "###### E) Calculate the cross-sectional area of the ride relative to the direction of motion (for purposes of estimating air drag)"
   ]
  },
  {
   "cell_type": "code",
   "execution_count": null,
   "metadata": {
    "collapsed": true
   },
   "outputs": [],
   "source": []
  },
  {
   "cell_type": "markdown",
   "metadata": {},
   "source": [
    "## Task 2 "
   ]
  },
  {
   "cell_type": "markdown",
   "metadata": {},
   "source": [
    "###### A) Using the techniques of Hamiltonian mechanics, derive appropriate equations that describe the motion of the pendulum without dampening."
   ]
  },
  {
   "cell_type": "code",
   "execution_count": null,
   "metadata": {
    "collapsed": true
   },
   "outputs": [],
   "source": []
  },
  {
   "cell_type": "markdown",
   "metadata": {},
   "source": [
    "###### E) Propose a dampening mechanism for your pendulum and incorporate it into your model. Be sure to take into account what you expect the dampening term to look like functionally in your model. Consider two sources of dampening."
   ]
  },
  {
   "cell_type": "code",
   "execution_count": null,
   "metadata": {
    "collapsed": true
   },
   "outputs": [],
   "source": []
  }
 ],
 "metadata": {
  "kernelspec": {
   "display_name": "Python 3",
   "language": "python",
   "name": "python3"
  },
  "language_info": {
   "codemirror_mode": {
    "name": "ipython",
    "version": 3
   },
   "file_extension": ".py",
   "mimetype": "text/x-python",
   "name": "python",
   "nbconvert_exporter": "python",
   "pygments_lexer": "ipython3",
   "version": "3.6.1"
  }
 },
 "nbformat": 4,
 "nbformat_minor": 2
}
